{
 "cells": [
  {
   "cell_type": "code",
   "execution_count": 1,
   "metadata": {},
   "outputs": [],
   "source": [
    "from mps_simulator import MpsSimulator"
   ]
  },
  {
   "cell_type": "code",
   "execution_count": 2,
   "metadata": {},
   "outputs": [
    {
     "name": "stdout",
     "output_type": "stream",
     "text": [
      "[0.70710678+0.j 0.        +0.j 0.        +0.j 0.        +0.j\n",
      " 0.70710678+0.j 0.        +0.j 0.        +0.j 0.        +0.j]\n"
     ]
    }
   ],
   "source": [
    "simulator = MpsSimulator(3)\n",
    "simulator.h(0)  # Apply Hadamard gate to the first qubit\n",
    "simulator.cnot(\n",
    "            0, 1\n",
    "        )  # Apply CNOT gate with qubit 0 as control and qubit 1 as target\n",
    "\n",
    "# Remaining qubits (if any) are left in the |0⟩ state\n",
    "simulator.plot_own_probabilities()"
   ]
  }
 ],
 "metadata": {
  "kernelspec": {
   "display_name": ".venv",
   "language": "python",
   "name": "python3"
  },
  "language_info": {
   "codemirror_mode": {
    "name": "ipython",
    "version": 3
   },
   "file_extension": ".py",
   "mimetype": "text/x-python",
   "name": "python",
   "nbconvert_exporter": "python",
   "pygments_lexer": "ipython3",
   "version": "3.11.5"
  }
 },
 "nbformat": 4,
 "nbformat_minor": 2
}
