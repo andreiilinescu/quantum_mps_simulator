{
 "cells": [
  {
   "cell_type": "code",
   "execution_count": 1,
   "metadata": {},
   "outputs": [],
   "source": [
    "from mps_simulator import MpsSimulator"
   ]
  },
  {
   "cell_type": "code",
   "execution_count": 2,
   "metadata": {},
   "outputs": [
    {
     "name": "stdout",
     "output_type": "stream",
     "text": [
      "[array([[[1.+0.j, 0.+0.j],\n",
      "        [0.+0.j, 1.+0.j]]]), array([[[0.70710678+0.j],\n",
      "        [0.        +0.j]],\n",
      "\n",
      "       [[0.        +0.j],\n",
      "        [0.70710678+0.j]]]), array([[[1.+0.j],\n",
      "        [0.+0.j]]])]\n"
     ]
    },
    {
     "data": {
      "image/png": "[encoded data removed]",
      "text/plain": [
       "<Figure size 640x480 with 1 Axes>"
      ]
     },
     "metadata": {},
     "output_type": "display_data"
    }
   ],
   "source": [
    "simulator = MpsSimulator(3)\n",
    "simulator.h(0)  # Apply Hadamard gate to the first qubit\n",
    "simulator.cnot(\n",
    "            0, 1\n",
    "        )  # Apply CNOT gate with qubit 0 as control and qubit 1 as target\n",
    "\n",
    "# Remaining qubits (if any) are left in the |0⟩ state\n",
    "print(simulator.sim.tensors)\n",
    "simulator.plot_own_probabilities()"
   ]
  },
  {
   "cell_type": "code",
   "execution_count": 17,
   "metadata": {},
   "outputs": [
    {
     "name": "stdout",
     "output_type": "stream",
     "text": [
      "(0, 0, 0, 0)  (0.70710678+0j)\n",
      "(0, 0, 1, 0)  0j\n",
      "(0, 1, 0, 0)  0j\n",
      "(0, 1, 1, 0)  (0.70710678+0j)\n",
      "[[[[ 1.+0.j  0.+0.j]\n",
      "   [ 0.+0.j  1.+0.j]]\n",
      "\n",
      "  [[ 0.+0.j -1.+0.j]\n",
      "   [ 1.+0.j  0.+0.j]]]]\n",
      "[[[0.70710678]\n",
      "  [0.70710678]]]\n",
      "[[[[1.+0.j]]\n",
      "\n",
      "  [[1.+0.j]]]]\n"
     ]
    }
   ],
   "source": [
    "import numpy as np\n",
    "from scipy.sparse import coo_matrix\n",
    "x=np.array([[[[0.70710678+0.j],\n",
    "   [0.        +0.j]],\n",
    "\n",
    "  [[0.        +0.j],\n",
    "   [0.70710678+0.j]]]])\n",
    "for i,t in np.ndenumerate(x):\n",
    "    print(f\"{i}  {t}\")\n",
    "x.reshape(2,2)\n",
    "U,S,V=np.linalg.svd(x)\n",
    "print(U)\n",
    "print(S)\n",
    "print(V)"
   ]
  },
  {
   "cell_type": "code",
   "execution_count": 73,
   "metadata": {},
   "outputs": [
    {
     "name": "stdout",
     "output_type": "stream",
     "text": [
      "[0.72424289 0.72424289]\n",
      "[[1. 0.]\n",
      " [0. 1.]]\n",
      "[[1. 0.]\n",
      " [0. 1.]]\n"
     ]
    }
   ],
   "source": [
    "x=np.array([[0.72424289,0],[0,0.72424289]])\n",
    " \n",
    "u,s,v=np.linalg.svd(x)\n",
    "print(s)\n",
    "print(u)\n",
    "print(v)"
   ]
  },
  {
   "cell_type": "code",
   "execution_count": null,
   "metadata": {},
   "outputs": [
    {
     "name": "stdout",
     "output_type": "stream",
     "text": [
      "[0.72424289 0.72424289]\n",
      "[[ 0.97616456  0.21703168]\n",
      " [-0.21703168  0.97616456]]\n",
      "[[ 0.97616456 -0.21703168]\n",
      " [ 0.21703168  0.97616456]]\n",
      "[[ 0.97616456  0.21703168]\n",
      " [-0.21703168  0.97616456]]\n",
      "[0.8641639  0.54979659]\n",
      "[0.96288945 0.349141  ]\n"
     ]
    }
   ],
   "source": [
    "from scipy.sparse.linalg import svds\n",
    "x=np.array([[0.72424289,0],[0,0.72424289]])\n",
    " \n",
    "u, s, v = svds(x, k=2, solver='propack', tol=1e-18, maxiter=10000)\n",
    "print(s)\n",
    "print(u)\n",
    "print(v)\n",
    "print(u)\n",
    "print(s@v)\n",
    "print(u@s@v)"
   ]
  }
 ],
 "metadata": {
  "kernelspec": {
   "display_name": ".venv",
   "language": "python",
   "name": "python3"
  },
  "language_info": {
   "codemirror_mode": {
    "name": "ipython",
    "version": 3
   },
   "file_extension": ".py",
   "mimetype": "text/x-python",
   "name": "python",
   "nbconvert_exporter": "python",
   "pygments_lexer": "ipython3",
   "version": "3.11.5"
  }
 },
 "nbformat": 4,
 "nbformat_minor": 2
}
