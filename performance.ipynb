{
 "cells": [
  {
   "cell_type": "code",
   "execution_count": 4,
   "metadata": {},
   "outputs": [],
   "source": [
    "from performance import time_ghz_execution,compare_current_baseline,get_current_baseline\n",
    "import numpy as np\n",
    "import json"
   ]
  },
  {
   "cell_type": "code",
   "execution_count": 2,
   "metadata": {},
   "outputs": [],
   "source": [
    "MAX_QBITS=100\n",
    "ITER=200\n",
    "SYSTEM=\"PC-2080s\""
   ]
  },
  {
   "cell_type": "code",
   "execution_count": 6,
   "metadata": {},
   "outputs": [
    {
     "name": "stdout",
     "output_type": "stream",
     "text": [
      "Baseline Time:0.026361666005868756\n",
      "Baseline Memory Peak:79320.0\n",
      "\n",
      "Current Time:0.021514684996873257\n",
      "Current Memory Peak:73072.0\n",
      "--------------\n",
      "\u001b[32mTime:-0.004846981008995499\u001b[0m\n",
      "\u001b[32mMemory Peak:-6248.0\u001b[0m\n"
     ]
    }
   ],
   "source": [
    "file = open(\"./new_data/baselines/baseline_noudf_PC-2080s_100_200_24_03_2024.json\")\n",
    "old_data=json.load(file)\n",
    "compare_current_baseline(old_data)"
   ]
  },
  {
   "cell_type": "code",
   "execution_count": null,
   "metadata": {},
   "outputs": [],
   "source": []
  }
 ],
 "metadata": {
  "kernelspec": {
   "display_name": "quantum_honours",
   "language": "python",
   "name": "python3"
  },
  "language_info": {
   "codemirror_mode": {
    "name": "ipython",
    "version": 3
   },
   "file_extension": ".py",
   "mimetype": "text/x-python",
   "name": "python",
   "nbconvert_exporter": "python",
   "pygments_lexer": "ipython3",
   "version": "3.12.2"
  }
 },
 "nbformat": 4,
 "nbformat_minor": 2
}
