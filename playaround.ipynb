{
 "cells": [
  {
   "cell_type": "code",
   "execution_count": 1,
   "metadata": {},
   "outputs": [],
   "source": [
    "from nptRepr import CNOT,H,X,Y,Z,plot_nqbit_prob, init_state, apply_one_qubit_gate, apply_two_qubit_gate\n",
    "import numpy as np"
   ]
  },
  {
   "cell_type": "code",
   "execution_count": 2,
   "metadata": {},
   "outputs": [
    {
     "name": "stdout",
     "output_type": "stream",
     "text": [
      "ba,abcd->cbdcba\n"
     ]
    },
    {
     "ename": "ValueError",
     "evalue": "einstein sum subscripts string includes output subscript 'c' multiple times",
     "output_type": "error",
     "traceback": [
      "\u001b[0;31m---------------------------------------------------------------------------\u001b[0m",
      "\u001b[0;31mValueError\u001b[0m                                Traceback (most recent call last)",
      "Cell \u001b[0;32mIn[2], line 3\u001b[0m\n\u001b[1;32m      1\u001b[0m state\u001b[38;5;241m=\u001b[39minit_state(\u001b[38;5;241m2\u001b[39m)\n\u001b[1;32m      2\u001b[0m state\u001b[38;5;241m=\u001b[39mapply_one_qubit_gate(state,H(),\u001b[38;5;241m0\u001b[39m)\n\u001b[0;32m----> 3\u001b[0m state\u001b[38;5;241m=\u001b[39m\u001b[43mapply_two_qubit_gate\u001b[49m\u001b[43m(\u001b[49m\u001b[43mstate\u001b[49m\u001b[43m,\u001b[49m\u001b[43mCNOT\u001b[49m\u001b[43m(\u001b[49m\u001b[43m)\u001b[49m\u001b[43m,\u001b[49m\u001b[38;5;241;43m0\u001b[39;49m\u001b[43m,\u001b[49m\u001b[38;5;241;43m1\u001b[39;49m\u001b[43m)\u001b[49m\n\u001b[1;32m      4\u001b[0m \u001b[38;5;28mprint\u001b[39m(state)\n",
      "File \u001b[0;32m~/UNI/Honours/nptRepr.py:119\u001b[0m, in \u001b[0;36mapply_two_qubit_gate\u001b[0;34m(state, gate, qbit_one, qbit_two)\u001b[0m\n\u001b[1;32m    117\u001b[0m \u001b[38;5;28mprint\u001b[39m(einsum_string)\n\u001b[1;32m    118\u001b[0m \u001b[38;5;66;03m# Apply the gate using einsum\u001b[39;00m\n\u001b[0;32m--> 119\u001b[0m \u001b[38;5;28;01mreturn\u001b[39;00m \u001b[43mnp\u001b[49m\u001b[38;5;241;43m.\u001b[39;49m\u001b[43meinsum\u001b[49m\u001b[43m(\u001b[49m\u001b[43meinsum_string\u001b[49m\u001b[43m,\u001b[49m\u001b[43m \u001b[49m\u001b[43mstate\u001b[49m\u001b[43m,\u001b[49m\u001b[43m \u001b[49m\u001b[43mgate\u001b[49m\u001b[43m)\u001b[49m\n",
      "File \u001b[0;32m~/anaconda3/envs/quantum_honours/lib/python3.12/site-packages/numpy/core/einsumfunc.py:1371\u001b[0m, in \u001b[0;36meinsum\u001b[0;34m(out, optimize, *operands, **kwargs)\u001b[0m\n\u001b[1;32m   1369\u001b[0m     \u001b[38;5;28;01mif\u001b[39;00m specified_out:\n\u001b[1;32m   1370\u001b[0m         kwargs[\u001b[38;5;124m'\u001b[39m\u001b[38;5;124mout\u001b[39m\u001b[38;5;124m'\u001b[39m] \u001b[38;5;241m=\u001b[39m out\n\u001b[0;32m-> 1371\u001b[0m     \u001b[38;5;28;01mreturn\u001b[39;00m \u001b[43mc_einsum\u001b[49m\u001b[43m(\u001b[49m\u001b[38;5;241;43m*\u001b[39;49m\u001b[43moperands\u001b[49m\u001b[43m,\u001b[49m\u001b[43m \u001b[49m\u001b[38;5;241;43m*\u001b[39;49m\u001b[38;5;241;43m*\u001b[39;49m\u001b[43mkwargs\u001b[49m\u001b[43m)\u001b[49m\n\u001b[1;32m   1373\u001b[0m \u001b[38;5;66;03m# Check the kwargs to avoid a more cryptic error later, without having to\u001b[39;00m\n\u001b[1;32m   1374\u001b[0m \u001b[38;5;66;03m# repeat default values here\u001b[39;00m\n\u001b[1;32m   1375\u001b[0m valid_einsum_kwargs \u001b[38;5;241m=\u001b[39m [\u001b[38;5;124m'\u001b[39m\u001b[38;5;124mdtype\u001b[39m\u001b[38;5;124m'\u001b[39m, \u001b[38;5;124m'\u001b[39m\u001b[38;5;124morder\u001b[39m\u001b[38;5;124m'\u001b[39m, \u001b[38;5;124m'\u001b[39m\u001b[38;5;124mcasting\u001b[39m\u001b[38;5;124m'\u001b[39m]\n",
      "\u001b[0;31mValueError\u001b[0m: einstein sum subscripts string includes output subscript 'c' multiple times"
     ]
    }
   ],
   "source": [
    "state=init_state(2)\n",
    "state=apply_one_qubit_gate(state,H(),0)\n",
    "state=apply_two_qubit_gate(state,CNOT(),0,1)\n",
    "print(state)"
   ]
  },
  {
   "cell_type": "code",
   "execution_count": 11,
   "metadata": {},
   "outputs": [
    {
     "data": {
      "image/png": "[encoded data removed]",
      "text/plain": [
       "<Figure size 640x480 with 1 Axes>"
      ]
     },
     "metadata": {},
     "output_type": "display_data"
    }
   ],
   "source": [
    "plot_nqbit_prob(state)"
   ]
  },
  {
   "cell_type": "code",
   "execution_count": 4,
   "metadata": {},
   "outputs": [],
   "source": [
    "from qiskit import QuantumCircuit, transpile\n",
    "from qiskit_aer import Aer, AerSimulator\n",
    "from qiskit.visualization import plot_histogram\n",
    "from qiskit.quantum_info import Statevector"
   ]
  },
  {
   "cell_type": "code",
   "execution_count": 9,
   "metadata": {},
   "outputs": [
    {
     "name": "stdout",
     "output_type": "stream",
     "text": [
      "{'00': 0.5, '01': 0.5}\n"
     ]
    },
    {
     "data": {
      "image/png": "[encoded data removed]",
      "text/plain": [
       "<Figure size 800x500 with 2 Axes>"
      ]
     },
     "execution_count": 9,
     "metadata": {},
     "output_type": "execute_result"
    }
   ],
   "source": [
    "circ = QuantumCircuit(2)\n",
    "circ.h(0)\n",
    "circ.y(0)\n",
    "circ.save_statevector()\n",
    "\n",
    "# Transpile for simulator\n",
    "simulator = AerSimulator(method='statevector')\n",
    "circ = transpile(circ, simulator)\n",
    "\n",
    "# Run and get statevector\n",
    "result = simulator.run(circ).result()\n",
    "statevector = result.get_statevector(circ)\n",
    "probs=statevector.probabilities_dict(decimals=2)\n",
    "print(probs)\n",
    "statevector.draw(output=\"hinton\")\n",
    "# plot_histogram(statevector, title='Bell state')\n"
   ]
  },
  {
   "cell_type": "code",
   "execution_count": null,
   "metadata": {},
   "outputs": [],
   "source": []
  },
  {
   "cell_type": "code",
   "execution_count": 1,
   "metadata": {},
   "outputs": [
    {
     "name": "stdout",
     "output_type": "stream",
     "text": [
      "Tensor 1:\n",
      "[[1. 0.]\n",
      " [0. 1.]]\n",
      "\n",
      "Tensor 2:\n",
      "[[0.70710678 0.        ]\n",
      " [0.         0.70710678]]\n",
      "\n",
      "Tensor 3:\n",
      "[[0.70710678 0.        ]\n",
      " [0.         0.70710678]]\n",
      "\n"
     ]
    }
   ],
   "source": [
    "import numpy as np\n",
    "from scipy.linalg import svd\n",
    "\n",
    "def create_bell_state():\n",
    "    \"\"\"Creates the state vector for the Bell state |00> + |11>\"\"\"\n",
    "    state = np.array([1/np.sqrt(2), 0, 0, 1/np.sqrt(2)])\n",
    "    return state\n",
    "\n",
    "def svd_decompose(state_vector, num_qubits):\n",
    "    \"\"\"Decomposes the state vector into MPS tensors using SVD\"\"\"\n",
    "    mps_tensors = []\n",
    "    \n",
    "    # Reshape state vector for the first SVD (split first qubit from the rest)\n",
    "    dim = 2 ** (num_qubits - 1)\n",
    "    state_matrix = state_vector.reshape(2, dim)\n",
    "    \n",
    "    for i in range(num_qubits - 1):\n",
    "        # Perform SVD\n",
    "        U, S, Vh = svd(state_matrix, full_matrices=False)\n",
    "        \n",
    "        # Store the U matrix (as the MPS tensor for the current qubit)\n",
    "        A = U\n",
    "        mps_tensors.append(A)\n",
    "        \n",
    "        # Store the singular values (bond dimension)\n",
    "        Lambda = np.diag(S)\n",
    "        mps_tensors.append(Lambda)\n",
    "        \n",
    "        # Reshape Vh for the next iteration\n",
    "        state_matrix = Vh.reshape(2, -1)\n",
    "    \n",
    "    # The final Vh matrix is the last MPS tensor\n",
    "    mps_tensors.append(state_matrix)\n",
    "    \n",
    "    return mps_tensors\n",
    "\n",
    "def print_mps(mps_tensors):\n",
    "    \"\"\"Prints the MPS tensors\"\"\"\n",
    "    for i, tensor in enumerate(mps_tensors):\n",
    "        print(f\"Tensor {i + 1}:\\n{tensor}\\n\")\n",
    "\n",
    "# Main function to create and decompose the Bell state\n",
    "num_qubits = 2\n",
    "bell_state = create_bell_state()\n",
    "\n",
    "# Decompose the Bell state into MPS form\n",
    "mps_tensors = svd_decompose(bell_state, num_qubits)\n",
    "\n",
    "# Print the resulting MPS tensors\n",
    "print_mps(mps_tensors)\n"
   ]
  }
 ],
 "metadata": {
  "kernelspec": {
   "display_name": "quantum_honours",
   "language": "python",
   "name": "python3"
  },
  "language_info": {
   "codemirror_mode": {
    "name": "ipython",
    "version": 3
   },
   "file_extension": ".py",
   "mimetype": "text/x-python",
   "name": "python",
   "nbconvert_exporter": "python",
   "pygments_lexer": "ipython3",
   "version": "3.12.2"
  }
 },
 "nbformat": 4,
 "nbformat_minor": 2
}
