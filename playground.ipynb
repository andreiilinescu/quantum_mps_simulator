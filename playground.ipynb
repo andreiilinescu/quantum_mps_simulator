{
 "cells": [
  {
   "cell_type": "code",
   "execution_count": 1,
   "metadata": {},
   "outputs": [],
   "source": [
    "from qiskit import QuantumCircuit, transpile\n",
    "from qiskit_aer import Aer, AerSimulator\n",
    "from qiskit.quantum_info import Statevector"
   ]
  },
  {
   "cell_type": "code",
   "execution_count": 11,
   "metadata": {},
   "outputs": [],
   "source": [
    "from sqlite_mps import SQLITE_MPS"
   ]
  },
  {
   "cell_type": "code",
   "execution_count": 10,
   "metadata": {},
   "outputs": [],
   "source": [
    "import numpy as np\n",
    "import pandas as pd\n",
    "import matplotlib.pyplot as plt"
   ]
  },
  {
   "cell_type": "code",
   "execution_count": 2,
   "metadata": {},
   "outputs": [],
   "source": [
    "def get_qiskit_statevector(qiskit_circ) -> Statevector:\n",
    "        circ = qiskit_circ.copy().reverse_bits()\n",
    "        circ.save_statevector()\n",
    "        # Transpile for simulator\n",
    "        simulator = AerSimulator(method=\"statevector\")\n",
    "        circ = transpile(circ, simulator)\n",
    "        # Run and get statevector\n",
    "        result = simulator.run(circ).result()\n",
    "        statevector = result.get_statevector(circ)\n",
    "        return statevector"
   ]
  },
  {
   "cell_type": "code",
   "execution_count": 8,
   "metadata": {},
   "outputs": [],
   "source": [
    "def measure_qiskit_probablities(qiskit_circ):\n",
    "        statevector = get_qiskit_statevector(qiskit_circ)\n",
    "        probs = statevector.probabilities(decimals=5)\n",
    "        return np.array(statevector)"
   ]
  },
  {
   "cell_type": "code",
   "execution_count": 38,
   "metadata": {},
   "outputs": [
    {
     "name": "stdout",
     "output_type": "stream",
     "text": [
      "[0.70710678+0.j         0.        +0.j         0.        +0.j\n",
      " 0.        +0.j         0.68608586+0.17113209j 0.        +0.j\n",
      " 0.        +0.j         0.        +0.j        ]\n"
     ]
    }
   ],
   "source": [
    "qiskit_circ = QuantumCircuit(3)\n",
    "qiskit_circ.h(0)\n",
    "qiskit_circ.p(0.244444444,0)\n",
    "print(measure_qiskit_probablities(qiskit_circ))"
   ]
  },
  {
   "cell_type": "code",
   "execution_count": 36,
   "metadata": {},
   "outputs": [
    {
     "name": "stdout",
     "output_type": "stream",
     "text": [
      "0.00016458379104733467\n",
      "0.00038966676220297813\n",
      "[0.5+0.j 0. +0.j 0.5+0.j 0. +0.j 0.5+0.j 0. +0.j 0.5+0.j 0. +0.j]\n"
     ]
    }
   ],
   "source": [
    "sim=SQLITE_MPS(3,{\"H\",\"CNOT\"})\n",
    "sim.apply_one_qbit_gate(0,\"h\")\n",
    "sim.apply_one_qbit_gate(1,\"h\")\n",
    "print(sim.get_statevector_np())"
   ]
  }
 ],
 "metadata": {
  "kernelspec": {
   "display_name": ".venv",
   "language": "python",
   "name": "python3"
  },
  "language_info": {
   "codemirror_mode": {
    "name": "ipython",
    "version": 3
   },
   "file_extension": ".py",
   "mimetype": "text/x-python",
   "name": "python",
   "nbconvert_exporter": "python",
   "pygments_lexer": "ipython3",
   "version": "3.13.1"
  }
 },
 "nbformat": 4,
 "nbformat_minor": 2
}
